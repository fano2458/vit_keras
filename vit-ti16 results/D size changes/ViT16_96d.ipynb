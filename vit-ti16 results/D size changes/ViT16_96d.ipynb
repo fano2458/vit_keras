{
 "cells": [
  {
   "cell_type": "code",
   "execution_count": 1,
   "id": "JP3clKIakEmc",
   "metadata": {
    "colab": {
     "base_uri": "https://localhost:8080/"
    },
    "id": "JP3clKIakEmc",
    "outputId": "122aae37-c618-4c1e-8e3c-11c527614232"
   },
   "outputs": [],
   "source": [
    "#!pip install tensorflow_addons"
   ]
  },
  {
   "cell_type": "code",
   "execution_count": 2,
   "id": "0e24354c",
   "metadata": {
    "colab": {
     "base_uri": "https://localhost:8080/"
    },
    "id": "0e24354c",
    "outputId": "72c8d94a-7c81-453b-cba3-cb9454607ee5"
   },
   "outputs": [],
   "source": [
    "import tensorflow as tf\n",
    "from tensorflow import keras\n",
    "import scipy\n",
    "\n",
    "from tensorflow.keras import optimizers\n",
    "\n",
    "from tensorflow.keras.datasets import cifar10\n",
    "from tensorflow.keras.utils import to_categorical\n",
    "from tensorflow.keras.preprocessing.image import ImageDataGenerator\n",
    "from tensorflow.keras.models import Model\n",
    "from tensorflow.keras.callbacks import ReduceLROnPlateau\n",
    "from tensorflow.keras.layers import Input, Flatten, BatchNormalization, Dense\n",
    "from tensorflow.keras.callbacks import ModelCheckpoint\n",
    "\n",
    "from sklearn.model_selection import train_test_split\n",
    "from sklearn.metrics import accuracy_score\n",
    "\n",
    "import numpy as np\n",
    "import matplotlib.pyplot as plt\n",
    "import gc"
   ]
  },
  {
   "cell_type": "code",
   "execution_count": 3,
   "id": "a51a27b9",
   "metadata": {
    "id": "a51a27b9"
   },
   "outputs": [],
   "source": [
    "gpus = tf.config.list_physical_devices('GPU')\n",
    "if gpus:\n",
    "    for gpu in gpus:\n",
    "        tf.config.experimental.set_memory_growth(gpu,True)"
   ]
  },
  {
   "cell_type": "code",
   "execution_count": 4,
   "id": "9d34ead5",
   "metadata": {
    "id": "9d34ead5"
   },
   "outputs": [],
   "source": [
    "seed = 2022\n",
    "np.random.seed(seed)\n",
    "tf.random.set_seed(seed)"
   ]
  },
  {
   "cell_type": "code",
   "execution_count": 5,
   "id": "96e487c1",
   "metadata": {
    "colab": {
     "base_uri": "https://localhost:8080/"
    },
    "id": "96e487c1",
    "outputId": "a47373f7-392a-4b0c-8911-d8902c27a339"
   },
   "outputs": [],
   "source": [
    "(train_data, train_label), (test_data, test_label) = cifar10.load_data()\n",
    "train_label = to_categorical(train_label)\n",
    "test_label = to_categorical(test_label)\n",
    "train_data = (train_data/255.).astype(\"float32\")\n",
    "test_data = (test_data/255.).astype(\"float32\")"
   ]
  },
  {
   "cell_type": "code",
   "execution_count": 6,
   "id": "417e5ec3",
   "metadata": {
    "id": "417e5ec3"
   },
   "outputs": [],
   "source": [
    "X_train, X_valid, y_train, y_valid = train_test_split(train_data,train_label,random_state=seed,shuffle=True,train_size=0.9)"
   ]
  },
  {
   "cell_type": "code",
   "execution_count": 7,
   "id": "8c80b920",
   "metadata": {
    "id": "8c80b920"
   },
   "outputs": [],
   "source": [
    "\n",
    "batch_size = 32\n",
    "datagen = ImageDataGenerator(rotation_range=15,\n",
    "                             width_shift_range=0.2,\n",
    "                             zoom_range=0.2,\n",
    "                             horizontal_flip=True,\n",
    "                             height_shift_range=0.2,\n",
    "                             shear_range=0.2\n",
    "                            )\n",
    "\n",
    "train_generator = datagen.flow(X_train, y_train, batch_size=batch_size)"
   ]
  },
  {
   "cell_type": "code",
   "execution_count": 8,
   "id": "a5b23ca9",
   "metadata": {
    "id": "a5b23ca9"
   },
   "outputs": [],
   "source": [
    "checkpoint_vit = ModelCheckpoint(r'C:\\Users\\fano\\Desktop\\weights\\vit4_6.h5',\n",
    "    verbose=1,\n",
    "    monitor='val_loss',\n",
    "    save_best_only=True,\n",
    "    mode='auto'\n",
    ")"
   ]
  },
  {
   "cell_type": "code",
   "execution_count": 9,
   "id": "4ac41408",
   "metadata": {
    "id": "4ac41408"
   },
   "outputs": [],
   "source": [
    "class PatchEmbedding(tf.keras.layers.Layer):\n",
    "  def __init__(self , size , num_of_patches , projection_dim):\n",
    "    super().__init__()\n",
    "\n",
    "    self.size=size\n",
    "    self.num_of_patches= num_of_patches + 1\n",
    "    self.projection_dim=projection_dim\n",
    "\n",
    "    self.projection=tf.keras.layers.Dense(projection_dim)\n",
    "\n",
    "    self.clsToken= tf.Variable(tf.keras.initializers.GlorotNormal()(shape=(1 , 1 , projection_dim)) , trainable=True)\n",
    "    self.positionalEmbedding = tf.keras.layers.Embedding(self.num_of_patches , projection_dim)\n",
    "\n",
    "\n",
    "  def call(self, inputs):\n",
    "    patches = tf.image.extract_patches(inputs ,\n",
    "                                       sizes=[1 , self.size , self.size , 1],\n",
    "                                       strides=[1 , self.size , self.size , 1],\n",
    "                                       rates=[1 ,1 ,1 ,1],\n",
    "                                       padding=\"VALID\",)\n",
    "    patches=tf.reshape(patches, (tf.shape(inputs)[0], -1, self.size * self.size *3))\n",
    "    patches= self.projection(patches)\n",
    "\n",
    "    # repeat cls token length of batch size\n",
    "    clsToken = tf.repeat(self.clsToken , tf.shape(inputs)[0] , 0)\n",
    "    patches = tf.concat((clsToken, patches) , axis=1)\n",
    "    # create position number for each patch\n",
    "    positions = tf.range(0 , self.num_of_patches , 1)[tf.newaxis , ...]\n",
    "    positionalEmbedding = self.positionalEmbedding(positions)\n",
    "\n",
    "    #print(positionalEmbedding)\n",
    "    patches= patches + positionalEmbedding\n",
    "    return patches\n"
   ]
  },
  {
   "cell_type": "code",
   "execution_count": 10,
   "id": "a44dbf4a",
   "metadata": {
    "id": "a44dbf4a"
   },
   "outputs": [],
   "source": [
    "class TransformerLayer(tf.keras.layers.Layer):\n",
    "  def __init__(self , d_model , heads , mlp_rate , dropout_rate=0.1):\n",
    "    super().__init__()\n",
    "\n",
    "    self.layernorm_1 = tf.keras.layers.LayerNormalization(epsilon=1e-6)\n",
    "    self.mha= tf.keras.layers.MultiHeadAttention(heads, d_model//heads , dropout=dropout_rate)\n",
    "\n",
    "    self.layernorm_2 = tf.keras.layers.LayerNormalization(epsilon=1e-6)\n",
    "    self.mlp = tf.keras.Sequential([\n",
    "                                    tf.keras.layers.Dense(d_model * mlp_rate , activation=\"gelu\"),\n",
    "                                    tf.keras.layers.Dropout(dropout_rate),\n",
    "                                    tf.keras.layers.Dense(d_model , activation=\"gelu\"),\n",
    "                                    tf.keras.layers.Dropout(dropout_rate)\n",
    "    ])\n",
    "  def call(self , inputs , training=True):\n",
    "    out_1 = self.layernorm_1(inputs)\n",
    "    out_1 = self.mha(out_1 , out_1 ,training=training)\n",
    "    out_1 = inputs + out_1\n",
    "\n",
    "    out_2= self.layernorm_2(out_1)\n",
    "    out_2=self.mlp(out_2 , training=training)\n",
    "    out_2 = out_1 + out_2\n",
    "\n",
    "    return out_2\n"
   ]
  },
  {
   "cell_type": "code",
   "execution_count": 11,
   "id": "aa68b5d3",
   "metadata": {
    "id": "aa68b5d3"
   },
   "outputs": [],
   "source": [
    "class TransformerEncoder(tf.keras.layers.Layer):\n",
    "  def __init__(self , d_model , heads , mlp_rate , num_layers=1 , dropout_rate=0.1):\n",
    "    super().__init__()\n",
    "\n",
    "    self.encoders = [TransformerLayer(d_model , heads , mlp_rate , dropout_rate) for _ in range(num_layers)]\n",
    "\n",
    "  def call(self , inputs , training=True):\n",
    "    x =inputs\n",
    "\n",
    "    for layer in self.encoders:\n",
    "      x = layer(x , training=training)\n",
    "\n",
    "    return x\n"
   ]
  },
  {
   "cell_type": "code",
   "execution_count": 12,
   "id": "021c5050",
   "metadata": {
    "id": "021c5050"
   },
   "outputs": [],
   "source": [
    "class ViT(tf.keras.Model):\n",
    "  def __init__(self , num_classes , patch_size , num_of_patches , d_model , heads , num_layers , mlp_rate , dropout_rate=0.1):\n",
    "    super().__init__()\n",
    "\n",
    "    self.patchEmbedding = PatchEmbedding(patch_size , num_of_patches , d_model)\n",
    "    self.encoder = TransformerEncoder(d_model , heads , mlp_rate  ,num_layers , dropout_rate)\n",
    "\n",
    "    self.prediction = tf.keras.Sequential([\n",
    "                                           tf.keras.layers.Dropout(0.3),\n",
    "                                           tf.keras.layers.Dense(mlp_rate * d_model , activation=\"gelu\"),\n",
    "                                           tf.keras.layers.Dropout(0.2),\n",
    "                                           tf.keras.layers.Dense(num_classes, activation=\"softmax\")\n",
    "\n",
    "\n",
    "  ])\n",
    "  def call(self , inputs ,  training=True):\n",
    "    patches = self.patchEmbedding(inputs)\n",
    "    encoderResult = self.encoder(patches, training=training)\n",
    "\n",
    "    clsResult = encoderResult[: , 0 , :]\n",
    "\n",
    "    prediction = self.prediction(clsResult,\n",
    "                                 training=training)\n",
    "    return prediction\n"
   ]
  },
  {
   "cell_type": "code",
   "execution_count": 13,
   "id": "db0f5e6d",
   "metadata": {
    "id": "db0f5e6d"
   },
   "outputs": [],
   "source": [
    "# def scheduler(epoch, lr):\n",
    "#     if epoch < 10:\n",
    "#         return lr\n",
    "#     else:\n",
    "#         if epoch % 2:\n",
    "#             return lr * tf.math.exp(-0.1)\n",
    "#         else:\n",
    "#             return lr\n",
    "\n",
    "# callback = tf.keras.callbacks.LearningRateScheduler(scheduler)"
   ]
  },
  {
   "cell_type": "code",
   "execution_count": 14,
   "id": "ec4566be",
   "metadata": {},
   "outputs": [],
   "source": [
    "def lr_warmup_cosine_decay(global_step,\n",
    "                           warmup_steps,\n",
    "                           hold = 0,\n",
    "                           total_steps=0,\n",
    "                           start_lr=0.0001,\n",
    "                           target_lr=1e-3):\n",
    "    # Cosine decay\n",
    "    learning_rate = 0.5 * target_lr * (1 + np.cos(np.pi * (global_step - warmup_steps - hold) / float(total_steps - warmup_steps - hold)))\n",
    "\n",
    "    # Target LR * progress of warmup (=1 at the final warmup step)\n",
    "    warmup_lr = target_lr * (global_step / warmup_steps)\n",
    "\n",
    "    # Choose between `warmup_lr`, `target_lr` and `learning_rate` based on whether `global_step < warmup_steps` and we're still holding.\n",
    "    # i.e. warm up if we're still warming up and use cosine decayed lr otherwise\n",
    "    if hold > 0:\n",
    "        learning_rate = np.where(global_step > warmup_steps + hold,\n",
    "                                 learning_rate, target_lr)\n",
    "    \n",
    "    learning_rate = np.where(global_step < warmup_steps, warmup_lr, learning_rate)\n",
    "    return learning_rate"
   ]
  },
  {
   "cell_type": "code",
   "execution_count": 15,
   "id": "a19d015f",
   "metadata": {},
   "outputs": [],
   "source": [
    "from tensorflow.keras import backend as K\n",
    "\n",
    "class WarmupCosineDecay(tf.keras.callbacks.Callback):\n",
    "    def __init__(self, total_steps=0, warmup_steps=0, start_lr=0.0001, target_lr=1e-3, hold=0):\n",
    "\n",
    "        super(WarmupCosineDecay, self).__init__()\n",
    "        self.start_lr = start_lr\n",
    "        self.hold = hold\n",
    "        self.total_steps = total_steps\n",
    "        self.global_step = 1\n",
    "        self.target_lr = target_lr\n",
    "        self.warmup_steps = warmup_steps\n",
    "        self.lrs = []\n",
    "\n",
    "    def on_epoch_end(self, epoch, logs=None):\n",
    "        self.global_step = self.global_step + 1\n",
    "        lr = self.model.optimizer.lr.numpy()\n",
    "        self.lrs.append(lr)\n",
    "\n",
    "    def on_epoch_begin(self, epoch, logs=None):\n",
    "        lr = lr_warmup_cosine_decay(global_step=self.global_step,\n",
    "                                    total_steps=self.total_steps,\n",
    "                                    warmup_steps=self.warmup_steps,\n",
    "                                    start_lr=self.start_lr,\n",
    "                                    target_lr=self.target_lr,\n",
    "                                    hold=self.hold)\n",
    "        print(f\"Learining rate is {lr}\")\n",
    "        K.set_value(self.model.optimizer.lr, lr)"
   ]
  },
  {
   "cell_type": "code",
   "execution_count": 16,
   "id": "c052833a",
   "metadata": {},
   "outputs": [],
   "source": [
    "# If already batched\n",
    "total_steps = 100\n",
    "# If not batched\n",
    "#total_steps = len(train_set)/config['BATCH_SIZE']*config['EPOCHS']\n",
    "# 5% of the steps\n",
    "warmup_steps = 10\n",
    "\n",
    "callback = WarmupCosineDecay(total_steps=total_steps, \n",
    "                             warmup_steps=warmup_steps,\n",
    "                             hold=int(warmup_steps/2), \n",
    "                             start_lr=0.0001, \n",
    "                             target_lr=0.001)"
   ]
  },
  {
   "cell_type": "code",
   "execution_count": 17,
   "id": "b2f05e6e",
   "metadata": {
    "id": "b2f05e6e"
   },
   "outputs": [],
   "source": [
    "vitClassifier = ViT(num_classes=10, patch_size=16, num_of_patches=196,\n",
    "                d_model=96, heads=3, num_layers=12,\n",
    "                mlp_rate=8, dropout_rate=0.1)"
   ]
  },
  {
   "cell_type": "code",
   "execution_count": 18,
   "id": "ae703059",
   "metadata": {
    "colab": {
     "base_uri": "https://localhost:8080/"
    },
    "id": "ae703059",
    "outputId": "b3139085-ba60-4135-fea9-582d264c48f4"
   },
   "outputs": [
    {
     "data": {
      "text/plain": [
       "(32, 32, 32, 3)"
      ]
     },
     "execution_count": 18,
     "metadata": {},
     "output_type": "execute_result"
    }
   ],
   "source": [
    "next(iter(train_generator))[0].shape"
   ]
  },
  {
   "cell_type": "code",
   "execution_count": 19,
   "id": "7880b86d",
   "metadata": {
    "id": "7880b86d"
   },
   "outputs": [],
   "source": [
    "def build_model():\n",
    "    inputs = Input(shape=(32,32,3))\n",
    "    x = tf.keras.layers.Lambda(lambda image: tf.image.resize(image,(224,224)))(inputs)\n",
    "    y = vitClassifier(x)\n",
    "\n",
    "    return Model(inputs=inputs,outputs=y)\n"
   ]
  },
  {
   "cell_type": "code",
   "execution_count": 20,
   "id": "a981e1a6",
   "metadata": {
    "id": "a981e1a6"
   },
   "outputs": [],
   "source": [
    "vit = build_model()"
   ]
  },
  {
   "cell_type": "code",
   "execution_count": 21,
   "id": "98734364",
   "metadata": {
    "colab": {
     "base_uri": "https://localhost:8080/"
    },
    "id": "98734364",
    "outputId": "268c4647-aace-4ead-b219-fdf8f7c32e20"
   },
   "outputs": [
    {
     "name": "stdout",
     "output_type": "stream",
     "text": [
      "Model: \"model\"\n",
      "_________________________________________________________________\n",
      " Layer (type)                Output Shape              Param #   \n",
      "=================================================================\n",
      " input_1 (InputLayer)        [(None, 32, 32, 3)]       0         \n",
      "                                                                 \n",
      " lambda (Lambda)             (None, 224, 224, 3)       0         \n",
      "                                                                 \n",
      " vi_t (ViT)                  (None, 10)                2406442   \n",
      "                                                                 \n",
      "=================================================================\n",
      "Total params: 2,406,442\n",
      "Trainable params: 2,406,442\n",
      "Non-trainable params: 0\n",
      "_________________________________________________________________\n"
     ]
    },
    {
     "name": "stderr",
     "output_type": "stream",
     "text": [
      "C:\\Users\\fano2\\anaconda3\\envs\\tf\\lib\\site-packages\\keras\\optimizers\\optimizer_v2\\adam.py:114: UserWarning: The `lr` argument is deprecated, use `learning_rate` instead.\n",
      "  super().__init__(name, **kwargs)\n"
     ]
    }
   ],
   "source": [
    "vit.summary()\n",
    "vit.compile(\n",
    "    optimizer=tf.keras.optimizers.Adam(lr=0.001),\n",
    "    #optimizer = tf.keras.optimizers.SGD(lr=0.01,momentum=0.9),\n",
    "    loss=tf.keras.losses.CategoricalCrossentropy(),\n",
    "  metrics=[\n",
    "      tf.keras.metrics.CategoricalAccuracy(name=\"accuracy\")\n",
    "  ],\n",
    ")"
   ]
  },
  {
   "cell_type": "code",
   "execution_count": 22,
   "id": "3786ca1b",
   "metadata": {
    "colab": {
     "base_uri": "https://localhost:8080/",
     "height": 416
    },
    "id": "3786ca1b",
    "outputId": "acec0f7c-9233-4590-d4aa-7bc7acd33d81",
    "scrolled": true
   },
   "outputs": [
    {
     "name": "stdout",
     "output_type": "stream",
     "text": [
      "Learining rate is 0.0001\n",
      "Epoch 1/100\n",
      "1407/1407 [==============================] - 210s 141ms/step - loss: 1.9918 - accuracy: 0.2477 - val_loss: 1.7465 - val_accuracy: 0.3420\n",
      "Learining rate is 0.0002\n",
      "Epoch 2/100\n",
      "1407/1407 [==============================] - 197s 140ms/step - loss: 1.7391 - accuracy: 0.3556 - val_loss: 1.5315 - val_accuracy: 0.4422\n",
      "Learining rate is 0.0003\n",
      "Epoch 3/100\n",
      "1407/1407 [==============================] - 198s 141ms/step - loss: 1.5984 - accuracy: 0.4178 - val_loss: 1.5523 - val_accuracy: 0.4316\n",
      "Learining rate is 0.0004\n",
      "Epoch 4/100\n",
      "1407/1407 [==============================] - 198s 141ms/step - loss: 1.5035 - accuracy: 0.4522 - val_loss: 1.4669 - val_accuracy: 0.4572\n",
      "Learining rate is 0.0005\n",
      "Epoch 5/100\n",
      "1407/1407 [==============================] - 198s 141ms/step - loss: 1.4579 - accuracy: 0.4716 - val_loss: 1.3439 - val_accuracy: 0.5076\n",
      "Learining rate is 0.0006\n",
      "Epoch 6/100\n",
      "1407/1407 [==============================] - 198s 141ms/step - loss: 1.4185 - accuracy: 0.4884 - val_loss: 1.3238 - val_accuracy: 0.5182\n",
      "Learining rate is 0.0007\n",
      "Epoch 7/100\n",
      "1407/1407 [==============================] - 198s 140ms/step - loss: 1.4093 - accuracy: 0.4956 - val_loss: 1.3227 - val_accuracy: 0.5372\n",
      "Learining rate is 0.0008\n",
      "Epoch 8/100\n",
      "1407/1407 [==============================] - 198s 141ms/step - loss: 1.3815 - accuracy: 0.5054 - val_loss: 1.2896 - val_accuracy: 0.5490\n",
      "Learining rate is 0.0009000000000000001\n",
      "Epoch 9/100\n",
      "1407/1407 [==============================] - 198s 141ms/step - loss: 1.3764 - accuracy: 0.5053 - val_loss: 1.2600 - val_accuracy: 0.5518\n",
      "Learining rate is 0.001\n",
      "Epoch 10/100\n",
      "1407/1407 [==============================] - 198s 141ms/step - loss: 1.3713 - accuracy: 0.5099 - val_loss: 1.1991 - val_accuracy: 0.5696\n",
      "Learining rate is 0.001\n",
      "Epoch 11/100\n",
      "1407/1407 [==============================] - 197s 140ms/step - loss: 1.3253 - accuracy: 0.5291 - val_loss: 1.1701 - val_accuracy: 0.5720\n",
      "Learining rate is 0.001\n",
      "Epoch 12/100\n",
      "1407/1407 [==============================] - 198s 141ms/step - loss: 1.2921 - accuracy: 0.5406 - val_loss: 1.1193 - val_accuracy: 0.5926\n",
      "Learining rate is 0.001\n",
      "Epoch 13/100\n",
      "1407/1407 [==============================] - 198s 141ms/step - loss: 1.2619 - accuracy: 0.5552 - val_loss: 1.2092 - val_accuracy: 0.5866\n",
      "Learining rate is 0.001\n",
      "Epoch 14/100\n",
      "1407/1407 [==============================] - 198s 141ms/step - loss: 1.2456 - accuracy: 0.5603 - val_loss: 1.1392 - val_accuracy: 0.6014\n",
      "Learining rate is 0.001\n",
      "Epoch 15/100\n",
      "1407/1407 [==============================] - 198s 141ms/step - loss: 1.2216 - accuracy: 0.5707 - val_loss: 1.0969 - val_accuracy: 0.6068\n",
      "Learining rate is 0.0009996585300715115\n",
      "Epoch 16/100\n",
      "1407/1407 [==============================] - 198s 141ms/step - loss: 1.1871 - accuracy: 0.5831 - val_loss: 1.0764 - val_accuracy: 0.6248\n",
      "Learining rate is 0.0009986345866928941\n",
      "Epoch 17/100\n",
      "1407/1407 [==============================] - 198s 141ms/step - loss: 1.1712 - accuracy: 0.5880 - val_loss: 1.0400 - val_accuracy: 0.6386\n",
      "Learining rate is 0.0009969295684476367\n",
      "Epoch 18/100\n",
      "1407/1407 [==============================] - 198s 141ms/step - loss: 1.1444 - accuracy: 0.6008 - val_loss: 0.9844 - val_accuracy: 0.6518\n",
      "Learining rate is 0.000994545804185573\n",
      "Epoch 19/100\n",
      "1407/1407 [==============================] - 199s 141ms/step - loss: 1.1376 - accuracy: 0.6041 - val_loss: 1.0552 - val_accuracy: 0.6318\n",
      "Learining rate is 0.000991486549841951\n",
      "Epoch 20/100\n",
      "1407/1407 [==============================] - 199s 141ms/step - loss: 1.1036 - accuracy: 0.6135 - val_loss: 0.9695 - val_accuracy: 0.6588\n",
      "Learining rate is 0.0009877559839902184\n",
      "Epoch 21/100\n",
      "1407/1407 [==============================] - 199s 141ms/step - loss: 1.0923 - accuracy: 0.6191 - val_loss: 1.0488 - val_accuracy: 0.6392\n",
      "Learining rate is 0.0009833592021345938\n",
      "Epoch 22/100\n",
      "1407/1407 [==============================] - 199s 141ms/step - loss: 1.0807 - accuracy: 0.6260 - val_loss: 0.9235 - val_accuracy: 0.6746\n",
      "Learining rate is 0.0009783022097502204\n",
      "Epoch 23/100\n",
      "1407/1407 [==============================] - 199s 141ms/step - loss: 1.0580 - accuracy: 0.6323 - val_loss: 0.9561 - val_accuracy: 0.6652\n",
      "Learining rate is 0.0009725919140804099\n",
      "Epoch 24/100\n",
      "1407/1407 [==============================] - 199s 141ms/step - loss: 1.0389 - accuracy: 0.6399 - val_loss: 1.0295 - val_accuracy: 0.6384\n",
      "Learining rate is 0.0009662361147021779\n",
      "Epoch 25/100\n",
      "1407/1407 [==============================] - 199s 141ms/step - loss: 1.0246 - accuracy: 0.6458 - val_loss: 0.9949 - val_accuracy: 0.6662\n",
      "Learining rate is 0.0009592434928729616\n",
      "Epoch 26/100\n",
      "1407/1407 [==============================] - 199s 141ms/step - loss: 1.0029 - accuracy: 0.6550 - val_loss: 0.9494 - val_accuracy: 0.6692\n",
      "Learining rate is 0.0009516235996730644\n",
      "Epoch 27/100\n",
      "1407/1407 [==============================] - 199s 141ms/step - loss: 0.9906 - accuracy: 0.6565 - val_loss: 0.8977 - val_accuracy: 0.6810\n",
      "Learining rate is 0.0009433868429600309\n",
      "Epoch 28/100\n",
      "1407/1407 [==============================] - 198s 141ms/step - loss: 0.9690 - accuracy: 0.6676 - val_loss: 0.9058 - val_accuracy: 0.6798\n",
      "Learining rate is 0.0009345444731527642\n",
      "Epoch 29/100\n",
      "1407/1407 [==============================] - 198s 141ms/step - loss: 0.9540 - accuracy: 0.6712 - val_loss: 0.8337 - val_accuracy: 0.7074\n",
      "Learining rate is 0.0009251085678648072\n",
      "Epoch 30/100\n",
      "1407/1407 [==============================] - 198s 141ms/step - loss: 0.9375 - accuracy: 0.6780 - val_loss: 0.8901 - val_accuracy: 0.6884\n",
      "Learining rate is 0.0009150920154077753\n",
      "Epoch 31/100\n",
      "1407/1407 [==============================] - 198s 141ms/step - loss: 0.9302 - accuracy: 0.6812 - val_loss: 0.9223 - val_accuracy: 0.6828\n",
      "Learining rate is 0.0009045084971874737\n",
      "Epoch 32/100\n",
      "1407/1407 [==============================] - 198s 141ms/step - loss: 0.9014 - accuracy: 0.6861 - val_loss: 0.8576 - val_accuracy: 0.6970\n",
      "Learining rate is 0.0008933724690167417\n",
      "Epoch 33/100\n",
      "1407/1407 [==============================] - 198s 141ms/step - loss: 0.8899 - accuracy: 0.6953 - val_loss: 0.9269 - val_accuracy: 0.6916\n",
      "Learining rate is 0.0008816991413705516\n",
      "Epoch 34/100\n",
      "1407/1407 [==============================] - 198s 141ms/step - loss: 0.8759 - accuracy: 0.6974 - val_loss: 0.8698 - val_accuracy: 0.6944\n",
      "Learining rate is 0.0008695044586103295\n",
      "Epoch 35/100\n",
      "1407/1407 [==============================] - 198s 141ms/step - loss: 0.8608 - accuracy: 0.7020 - val_loss: 0.8302 - val_accuracy: 0.7152\n",
      "Learining rate is 0.0008568050772058762\n",
      "Epoch 36/100\n",
      "1407/1407 [==============================] - 199s 141ms/step - loss: 0.8551 - accuracy: 0.7081 - val_loss: 0.8091 - val_accuracy: 0.7208\n",
      "Learining rate is 0.0008436183429846313\n",
      "Epoch 37/100\n",
      "1407/1407 [==============================] - 199s 141ms/step - loss: 0.8370 - accuracy: 0.7136 - val_loss: 0.8231 - val_accuracy: 0.7158\n",
      "Learining rate is 0.0008299622674393614\n",
      "Epoch 38/100\n",
      "1407/1407 [==============================] - 198s 141ms/step - loss: 0.8186 - accuracy: 0.7200 - val_loss: 0.7932 - val_accuracy: 0.7278\n",
      "Learining rate is 0.0008158555031266255\n",
      "Epoch 39/100\n",
      "1407/1407 [==============================] - 199s 141ms/step - loss: 0.8043 - accuracy: 0.7249 - val_loss: 0.7307 - val_accuracy: 0.7476\n",
      "Learining rate is 0.0008013173181896282\n",
      "Epoch 40/100\n",
      "1407/1407 [==============================] - 198s 141ms/step - loss: 0.7917 - accuracy: 0.7274 - val_loss: 0.8012 - val_accuracy: 0.7316\n",
      "Learining rate is 0.0007863675700402526\n",
      "Epoch 41/100\n",
      "1407/1407 [==============================] - 199s 141ms/step - loss: 0.7755 - accuracy: 0.7343 - val_loss: 0.8554 - val_accuracy: 0.7158\n",
      "Learining rate is 0.0007710266782362247\n",
      "Epoch 42/100\n",
      "1407/1407 [==============================] - 198s 141ms/step - loss: 0.7654 - accuracy: 0.7397 - val_loss: 0.7854 - val_accuracy: 0.7360\n",
      "Learining rate is 0.0007553155965904535\n",
      "Epoch 43/100\n",
      "1407/1407 [==============================] - 198s 141ms/step - loss: 0.7513 - accuracy: 0.7428 - val_loss: 0.8221 - val_accuracy: 0.7372\n",
      "Learining rate is 0.0007392557845506433\n",
      "Epoch 44/100\n",
      "1407/1407 [==============================] - 198s 141ms/step - loss: 0.7347 - accuracy: 0.7508 - val_loss: 0.8064 - val_accuracy: 0.7264\n",
      "Learining rate is 0.0007228691778882692\n",
      "Epoch 45/100\n",
      "1407/1407 [==============================] - 198s 141ms/step - loss: 0.7315 - accuracy: 0.7517 - val_loss: 0.7535 - val_accuracy: 0.7448\n",
      "Learining rate is 0.0007061781587369518\n",
      "Epoch 46/100\n",
      "1407/1407 [==============================] - 199s 141ms/step - loss: 0.7075 - accuracy: 0.7569 - val_loss: 0.7962 - val_accuracy: 0.7372\n",
      "Learining rate is 0.0006892055250211552\n",
      "Epoch 47/100\n",
      "1407/1407 [==============================] - 199s 141ms/step - loss: 0.7019 - accuracy: 0.7618 - val_loss: 0.7987 - val_accuracy: 0.7314\n",
      "Learining rate is 0.0006719744593169641\n",
      "Epoch 48/100\n",
      "1407/1407 [==============================] - 199s 141ms/step - loss: 0.6919 - accuracy: 0.7664 - val_loss: 0.7687 - val_accuracy: 0.7490\n",
      "Learining rate is 0.0006545084971874737\n",
      "Epoch 49/100\n",
      "1407/1407 [==============================] - 199s 141ms/step - loss: 0.6723 - accuracy: 0.7693 - val_loss: 0.7562 - val_accuracy: 0.7450\n",
      "Learining rate is 0.0006368314950360416\n",
      "Epoch 50/100\n",
      "1407/1407 [==============================] - 199s 141ms/step - loss: 0.6626 - accuracy: 0.7746 - val_loss: 0.7338 - val_accuracy: 0.7574\n",
      "Learining rate is 0.0006189675975213093\n",
      "Epoch 51/100\n",
      "1407/1407 [==============================] - 199s 141ms/step - loss: 0.6511 - accuracy: 0.7802 - val_loss: 0.7417 - val_accuracy: 0.7542\n",
      "Learining rate is 0.0006009412045785051\n",
      "Epoch 52/100\n",
      "1407/1407 [==============================] - 199s 141ms/step - loss: 0.6330 - accuracy: 0.7832 - val_loss: 0.7446 - val_accuracy: 0.7506\n",
      "Learining rate is 0.000582776938092065\n",
      "Epoch 53/100\n",
      "1407/1407 [==============================] - 200s 142ms/step - loss: 0.6281 - accuracy: 0.7831 - val_loss: 0.7831 - val_accuracy: 0.7460\n",
      "Learining rate is 0.0005644996082651017\n",
      "Epoch 54/100\n",
      "1407/1407 [==============================] - 199s 142ms/step - loss: 0.6172 - accuracy: 0.7916 - val_loss: 0.7327 - val_accuracy: 0.7658\n",
      "Learining rate is 0.000546134179731651\n",
      "Epoch 55/100\n",
      "1407/1407 [==============================] - 199s 141ms/step - loss: 0.6032 - accuracy: 0.7959 - val_loss: 0.7628 - val_accuracy: 0.7564\n",
      "Learining rate is 0.000527705737457985\n",
      "Epoch 56/100\n",
      "1407/1407 [==============================] - 199s 141ms/step - loss: 0.5880 - accuracy: 0.8009 - val_loss: 0.6922 - val_accuracy: 0.7754\n",
      "Learining rate is 0.000509239452479565\n",
      "Epoch 57/100\n",
      "1407/1407 [==============================] - 199s 141ms/step - loss: 0.5745 - accuracy: 0.8052 - val_loss: 0.7234 - val_accuracy: 0.7658\n",
      "Learining rate is 0.0004907605475204352\n",
      "Epoch 58/100\n",
      "1407/1407 [==============================] - 199s 141ms/step - loss: 0.5677 - accuracy: 0.8066 - val_loss: 0.6890 - val_accuracy: 0.7774\n",
      "Learining rate is 0.00047229426254201515\n",
      "Epoch 59/100\n",
      "1407/1407 [==============================] - 199s 141ms/step - loss: 0.5531 - accuracy: 0.8131 - val_loss: 0.7004 - val_accuracy: 0.7780\n",
      "Learining rate is 0.00045386582026834903\n",
      "Epoch 60/100\n",
      "1407/1407 [==============================] - 199s 141ms/step - loss: 0.5390 - accuracy: 0.8164 - val_loss: 0.7039 - val_accuracy: 0.7696\n",
      "Learining rate is 0.0004355003917348985\n",
      "Epoch 61/100\n",
      "1407/1407 [==============================] - 198s 141ms/step - loss: 0.5279 - accuracy: 0.8204 - val_loss: 0.7667 - val_accuracy: 0.7572\n",
      "Learining rate is 0.000417223061907935\n",
      "Epoch 62/100\n",
      "1407/1407 [==============================] - 198s 141ms/step - loss: 0.5134 - accuracy: 0.8244 - val_loss: 0.6798 - val_accuracy: 0.7790\n",
      "Learining rate is 0.0003990587954214949\n",
      "Epoch 63/100\n",
      "1407/1407 [==============================] - 198s 141ms/step - loss: 0.5013 - accuracy: 0.8278 - val_loss: 0.7195 - val_accuracy: 0.7800\n",
      "Learining rate is 0.00038103240247869074\n",
      "Epoch 64/100\n",
      "1407/1407 [==============================] - 199s 141ms/step - loss: 0.4949 - accuracy: 0.8307 - val_loss: 0.7198 - val_accuracy: 0.7726\n",
      "Learining rate is 0.0003631685049639586\n",
      "Epoch 65/100\n",
      "1407/1407 [==============================] - 199s 141ms/step - loss: 0.4828 - accuracy: 0.8364 - val_loss: 0.7380 - val_accuracy: 0.7684\n",
      "Learining rate is 0.00034549150281252633\n",
      "Epoch 66/100\n",
      "1407/1407 [==============================] - 198s 141ms/step - loss: 0.4756 - accuracy: 0.8377 - val_loss: 0.6762 - val_accuracy: 0.7890\n",
      "Learining rate is 0.0003280255406830359\n",
      "Epoch 67/100\n",
      "1407/1407 [==============================] - 199s 141ms/step - loss: 0.4563 - accuracy: 0.8424 - val_loss: 0.6844 - val_accuracy: 0.7872\n",
      "Learining rate is 0.00031079447497884486\n",
      "Epoch 68/100\n",
      "1407/1407 [==============================] - 199s 141ms/step - loss: 0.4465 - accuracy: 0.8476 - val_loss: 0.7398 - val_accuracy: 0.7732\n",
      "Learining rate is 0.00029382184126304836\n",
      "Epoch 69/100\n",
      "1407/1407 [==============================] - 199s 141ms/step - loss: 0.4352 - accuracy: 0.8501 - val_loss: 0.6994 - val_accuracy: 0.7896\n",
      "Learining rate is 0.0002771308221117309\n",
      "Epoch 70/100\n",
      "1407/1407 [==============================] - 198s 141ms/step - loss: 0.4260 - accuracy: 0.8559 - val_loss: 0.7062 - val_accuracy: 0.7828\n",
      "Learining rate is 0.0002607442154493568\n",
      "Epoch 71/100\n",
      "1407/1407 [==============================] - 199s 141ms/step - loss: 0.4146 - accuracy: 0.8570 - val_loss: 0.7171 - val_accuracy: 0.7810\n",
      "Learining rate is 0.0002446844034095466\n",
      "Epoch 72/100\n",
      "1407/1407 [==============================] - 199s 141ms/step - loss: 0.4037 - accuracy: 0.8623 - val_loss: 0.7071 - val_accuracy: 0.7854\n",
      "Learining rate is 0.00022897332176377528\n",
      "Epoch 73/100\n",
      "1407/1407 [==============================] - 199s 141ms/step - loss: 0.4002 - accuracy: 0.8647 - val_loss: 0.7129 - val_accuracy: 0.7874\n",
      "Learining rate is 0.00021363242995974742\n",
      "Epoch 74/100\n",
      "1407/1407 [==============================] - 199s 141ms/step - loss: 0.3792 - accuracy: 0.8697 - val_loss: 0.6971 - val_accuracy: 0.7998\n",
      "Learining rate is 0.00019868268181037185\n",
      "Epoch 75/100\n",
      "1407/1407 [==============================] - 199s 141ms/step - loss: 0.3789 - accuracy: 0.8713 - val_loss: 0.6965 - val_accuracy: 0.7900\n",
      "Learining rate is 0.00018414449687337466\n",
      "Epoch 76/100\n",
      "1407/1407 [==============================] - 199s 141ms/step - loss: 0.3693 - accuracy: 0.8744 - val_loss: 0.6816 - val_accuracy: 0.7956\n",
      "Learining rate is 0.0001700377325606388\n",
      "Epoch 77/100\n",
      "1407/1407 [==============================] - 199s 141ms/step - loss: 0.3596 - accuracy: 0.8788 - val_loss: 0.7004 - val_accuracy: 0.7926\n",
      "Learining rate is 0.00015638165701536866\n",
      "Epoch 78/100\n",
      "1407/1407 [==============================] - 199s 141ms/step - loss: 0.3478 - accuracy: 0.8817 - val_loss: 0.7272 - val_accuracy: 0.7926\n",
      "Learining rate is 0.00014319492279412388\n",
      "Epoch 79/100\n",
      "1407/1407 [==============================] - 199s 141ms/step - loss: 0.3424 - accuracy: 0.8833 - val_loss: 0.7457 - val_accuracy: 0.7896\n",
      "Learining rate is 0.0001304955413896705\n",
      "Epoch 80/100\n",
      "1407/1407 [==============================] - 199s 141ms/step - loss: 0.3317 - accuracy: 0.8871 - val_loss: 0.7095 - val_accuracy: 0.7966\n",
      "Learining rate is 0.00011830085862944851\n",
      "Epoch 81/100\n",
      "1407/1407 [==============================] - 199s 141ms/step - loss: 0.3225 - accuracy: 0.8918 - val_loss: 0.7314 - val_accuracy: 0.7906\n",
      "Learining rate is 0.00010662753098325839\n",
      "Epoch 82/100\n",
      "1407/1407 [==============================] - 199s 141ms/step - loss: 0.3256 - accuracy: 0.8914 - val_loss: 0.7194 - val_accuracy: 0.7964\n",
      "Learining rate is 9.549150281252633e-05\n",
      "Epoch 83/100\n",
      "1407/1407 [==============================] - 199s 141ms/step - loss: 0.3095 - accuracy: 0.8939 - val_loss: 0.7235 - val_accuracy: 0.7932\n",
      "Learining rate is 8.490798459222476e-05\n",
      "Epoch 84/100\n",
      "1407/1407 [==============================] - 199s 141ms/step - loss: 0.3089 - accuracy: 0.8952 - val_loss: 0.7428 - val_accuracy: 0.7936\n",
      "Learining rate is 7.489143213519301e-05\n",
      "Epoch 85/100\n",
      "1407/1407 [==============================] - 199s 142ms/step - loss: 0.2976 - accuracy: 0.8985 - val_loss: 0.7514 - val_accuracy: 0.7926\n",
      "Learining rate is 6.545552684723583e-05\n",
      "Epoch 86/100\n",
      "1407/1407 [==============================] - 199s 141ms/step - loss: 0.3025 - accuracy: 0.8993 - val_loss: 0.7276 - val_accuracy: 0.7952\n",
      "Learining rate is 5.6613157039969057e-05\n",
      "Epoch 87/100\n",
      "1407/1407 [==============================] - 199s 141ms/step - loss: 0.2934 - accuracy: 0.9018 - val_loss: 0.7570 - val_accuracy: 0.7944\n",
      "Learining rate is 4.8376400326935575e-05\n",
      "Epoch 88/100\n",
      "1407/1407 [==============================] - 199s 141ms/step - loss: 0.2859 - accuracy: 0.9033 - val_loss: 0.7535 - val_accuracy: 0.7938\n",
      "Learining rate is 4.075650712703849e-05\n",
      "Epoch 89/100\n",
      "1407/1407 [==============================] - 199s 142ms/step - loss: 0.2827 - accuracy: 0.9024 - val_loss: 0.7496 - val_accuracy: 0.7916\n",
      "Learining rate is 3.376388529782209e-05\n",
      "Epoch 90/100\n",
      "1407/1407 [==============================] - 199s 141ms/step - loss: 0.2816 - accuracy: 0.9049 - val_loss: 0.7619 - val_accuracy: 0.7960\n",
      "Learining rate is 2.7408085919590266e-05\n",
      "Epoch 91/100\n",
      "1407/1407 [==============================] - 199s 142ms/step - loss: 0.2765 - accuracy: 0.9066 - val_loss: 0.7735 - val_accuracy: 0.7956\n",
      "Learining rate is 2.1697790249779635e-05\n",
      "Epoch 92/100\n",
      "1407/1407 [==============================] - 199s 141ms/step - loss: 0.2688 - accuracy: 0.9091 - val_loss: 0.7675 - val_accuracy: 0.7966\n",
      "Learining rate is 1.6640797865406288e-05\n",
      "Epoch 93/100\n",
      "1407/1407 [==============================] - 199s 141ms/step - loss: 0.2698 - accuracy: 0.9088 - val_loss: 0.7667 - val_accuracy: 0.7976\n",
      "Learining rate is 1.22440160097817e-05\n",
      "Epoch 94/100\n",
      "1407/1407 [==============================] - 199s 142ms/step - loss: 0.2686 - accuracy: 0.9088 - val_loss: 0.7572 - val_accuracy: 0.8006\n",
      "Learining rate is 8.513450158049108e-06\n",
      "Epoch 95/100\n",
      "1407/1407 [==============================] - 199s 141ms/step - loss: 0.2728 - accuracy: 0.9088 - val_loss: 0.7635 - val_accuracy: 0.7972\n",
      "Learining rate is 5.454195814427021e-06\n",
      "Epoch 96/100\n",
      "1407/1407 [==============================] - 199s 141ms/step - loss: 0.2619 - accuracy: 0.9109 - val_loss: 0.7636 - val_accuracy: 0.7994\n",
      "Learining rate is 3.0704315523631954e-06\n",
      "Epoch 97/100\n",
      "1407/1407 [==============================] - 198s 141ms/step - loss: 0.2663 - accuracy: 0.9102 - val_loss: 0.7654 - val_accuracy: 0.7976\n",
      "Learining rate is 1.3654133071059894e-06\n",
      "Epoch 98/100\n",
      "1407/1407 [==============================] - 198s 141ms/step - loss: 0.2610 - accuracy: 0.9100 - val_loss: 0.7644 - val_accuracy: 0.7982\n",
      "Learining rate is 3.4146992848854695e-07\n",
      "Epoch 99/100\n",
      "1407/1407 [==============================] - 200s 142ms/step - loss: 0.2636 - accuracy: 0.9101 - val_loss: 0.7642 - val_accuracy: 0.7982\n",
      "Learining rate is 0.0\n",
      "Epoch 100/100\n",
      "1407/1407 [==============================] - 206s 146ms/step - loss: 0.2692 - accuracy: 0.9102 - val_loss: 0.7642 - val_accuracy: 0.7982\n"
     ]
    }
   ],
   "source": [
    "history = vit.fit(train_generator,\n",
    "                    epochs=100,\n",
    "                    validation_data=(X_valid, y_valid),\n",
    "                    callbacks=[callback]\n",
    "                   )\n",
    "#print(\"\\nTest Accuracy: \", accuracy_score(np.argmax(test_label, axis=1), np.argmax(model.predict(test_data), axis=1)))"
   ]
  },
  {
   "cell_type": "code",
   "execution_count": 23,
   "id": "0f29eb0b",
   "metadata": {
    "id": "0f29eb0b"
   },
   "outputs": [],
   "source": [
    "# save the model !!!"
   ]
  },
  {
   "cell_type": "code",
   "execution_count": 24,
   "id": "b47b9d54",
   "metadata": {
    "colab": {
     "base_uri": "https://localhost:8080/",
     "height": 927
    },
    "id": "b47b9d54",
    "outputId": "711d9d05-84c8-495c-814c-793910839cb6",
    "scrolled": true
   },
   "outputs": [
    {
     "data": {
      "image/png": "[encoded data removed]",
      "text/plain": [
       "<Figure size 640x480 with 1 Axes>"
      ]
     },
     "metadata": {},
     "output_type": "display_data"
    },
    {
     "data": {
      "image/png": "[encoded data removed]",
      "text/plain": [
       "<Figure size 640x480 with 1 Axes>"
      ]
     },
     "metadata": {},
     "output_type": "display_data"
    }
   ],
   "source": [
    "# summarize history for accuracy\n",
    "plt.plot(history.history['accuracy'])\n",
    "plt.plot(history.history['val_accuracy'])\n",
    "plt.title('model accuracy')\n",
    "plt.ylabel('accuracy')\n",
    "plt.xlabel('epoch')\n",
    "plt.legend(['train', 'test'], loc='upper left')\n",
    "plt.show()\n",
    "# summarize history for loss\n",
    "plt.plot(history.history['loss'])\n",
    "plt.plot(history.history['val_loss'])\n",
    "plt.title('model loss')\n",
    "plt.ylabel('loss')\n",
    "plt.xlabel('epoch')\n",
    "plt.legend(['train', 'test'], loc='upper left')\n",
    "plt.show()"
   ]
  },
  {
   "cell_type": "code",
   "execution_count": 25,
   "id": "e40f373a",
   "metadata": {
    "colab": {
     "base_uri": "https://localhost:8080/"
    },
    "id": "e40f373a",
    "outputId": "92a0007d-148d-4d7c-eb05-0cb52f17991c"
   },
   "outputs": [
    {
     "name": "stdout",
     "output_type": "stream",
     "text": [
      "313/313 [==============================] - 15s 48ms/step - loss: 0.7679 - accuracy: 0.7952\n",
      "test loss, test acc: [0.7679240703582764, 0.795199990272522]\n"
     ]
    }
   ],
   "source": [
    "results = vit.evaluate(test_data,test_label, batch_size=32, verbose=1)\n",
    "print(\"test loss, test acc:\", results)"
   ]
  },
  {
   "cell_type": "code",
   "execution_count": null,
   "id": "dda5569a",
   "metadata": {
    "id": "dda5569a"
   },
   "outputs": [],
   "source": []
  }
 ],
 "metadata": {
  "accelerator": "GPU",
  "colab": {
   "gpuType": "T4",
   "provenance": []
  },
  "kernelspec": {
   "display_name": "Python 3 (ipykernel)",
   "language": "python",
   "name": "python3"
  },
  "language_info": {
   "codemirror_mode": {
    "name": "ipython",
    "version": 3
   },
   "file_extension": ".py",
   "mimetype": "text/x-python",
   "name": "python",
   "nbconvert_exporter": "python",
   "pygments_lexer": "ipython3",
   "version": "3.10.13"
  }
 },
 "nbformat": 4,
 "nbformat_minor": 5
}
