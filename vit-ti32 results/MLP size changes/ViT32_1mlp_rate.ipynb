{
 "cells": [
  {
   "cell_type": "code",
   "execution_count": 1,
   "id": "JP3clKIakEmc",
   "metadata": {
    "colab": {
     "base_uri": "https://localhost:8080/"
    },
    "id": "JP3clKIakEmc",
    "outputId": "122aae37-c618-4c1e-8e3c-11c527614232"
   },
   "outputs": [],
   "source": [
    "#!pip install tensorflow_addons"
   ]
  },
  {
   "cell_type": "code",
   "execution_count": 2,
   "id": "0e24354c",
   "metadata": {
    "colab": {
     "base_uri": "https://localhost:8080/"
    },
    "id": "0e24354c",
    "outputId": "72c8d94a-7c81-453b-cba3-cb9454607ee5"
   },
   "outputs": [],
   "source": [
    "import tensorflow as tf\n",
    "from tensorflow import keras\n",
    "import scipy\n",
    "\n",
    "from tensorflow.keras import optimizers\n",
    "\n",
    "from tensorflow.keras.datasets import cifar10\n",
    "from tensorflow.keras.utils import to_categorical\n",
    "from tensorflow.keras.preprocessing.image import ImageDataGenerator\n",
    "from tensorflow.keras.models import Model\n",
    "from tensorflow.keras.callbacks import ReduceLROnPlateau\n",
    "from tensorflow.keras.layers import Input, Flatten, BatchNormalization, Dense\n",
    "from tensorflow.keras.callbacks import ModelCheckpoint\n",
    "\n",
    "from sklearn.model_selection import train_test_split\n",
    "from sklearn.metrics import accuracy_score\n",
    "\n",
    "import numpy as np\n",
    "import matplotlib.pyplot as plt\n",
    "import gc"
   ]
  },
  {
   "cell_type": "code",
   "execution_count": 3,
   "id": "a51a27b9",
   "metadata": {
    "id": "a51a27b9"
   },
   "outputs": [],
   "source": [
    "gpus = tf.config.list_physical_devices('GPU')\n",
    "if gpus:\n",
    "    for gpu in gpus:\n",
    "        tf.config.experimental.set_memory_growth(gpu,True)"
   ]
  },
  {
   "cell_type": "code",
   "execution_count": 4,
   "id": "9d34ead5",
   "metadata": {
    "id": "9d34ead5"
   },
   "outputs": [],
   "source": [
    "seed = 2022\n",
    "np.random.seed(seed)\n",
    "tf.random.set_seed(seed)"
   ]
  },
  {
   "cell_type": "code",
   "execution_count": 5,
   "id": "96e487c1",
   "metadata": {
    "colab": {
     "base_uri": "https://localhost:8080/"
    },
    "id": "96e487c1",
    "outputId": "a47373f7-392a-4b0c-8911-d8902c27a339"
   },
   "outputs": [],
   "source": [
    "(train_data, train_label), (test_data, test_label) = cifar10.load_data()\n",
    "train_label = to_categorical(train_label)\n",
    "test_label = to_categorical(test_label)\n",
    "train_data = (train_data/255.).astype(\"float32\")\n",
    "test_data = (test_data/255.).astype(\"float32\")"
   ]
  },
  {
   "cell_type": "code",
   "execution_count": 6,
   "id": "417e5ec3",
   "metadata": {
    "id": "417e5ec3"
   },
   "outputs": [],
   "source": [
    "X_train, X_valid, y_train, y_valid = train_test_split(train_data,train_label,random_state=seed,shuffle=True,train_size=0.9)"
   ]
  },
  {
   "cell_type": "code",
   "execution_count": 7,
   "id": "8c80b920",
   "metadata": {
    "id": "8c80b920"
   },
   "outputs": [],
   "source": [
    "\n",
    "batch_size = 32\n",
    "datagen = ImageDataGenerator(rotation_range=15,\n",
    "                             width_shift_range=0.2,\n",
    "                             zoom_range=0.2,\n",
    "                             horizontal_flip=True,\n",
    "                             height_shift_range=0.2,\n",
    "                             shear_range=0.2\n",
    "                            )\n",
    "\n",
    "train_generator = datagen.flow(X_train, y_train, batch_size=batch_size)"
   ]
  },
  {
   "cell_type": "code",
   "execution_count": 8,
   "id": "a5b23ca9",
   "metadata": {
    "id": "a5b23ca9"
   },
   "outputs": [],
   "source": [
    "checkpoint_vit = ModelCheckpoint(r'C:\\Users\\fano\\Desktop\\weights\\vit4_6.h5',\n",
    "    verbose=1,\n",
    "    monitor='val_loss',\n",
    "    save_best_only=True,\n",
    "    mode='auto'\n",
    ")"
   ]
  },
  {
   "cell_type": "code",
   "execution_count": 9,
   "id": "4ac41408",
   "metadata": {
    "id": "4ac41408"
   },
   "outputs": [],
   "source": [
    "class PatchEmbedding(tf.keras.layers.Layer):\n",
    "  def __init__(self , size , num_of_patches , projection_dim):\n",
    "    super().__init__()\n",
    "\n",
    "    self.size=size\n",
    "    self.num_of_patches= num_of_patches + 1\n",
    "    self.projection_dim=projection_dim\n",
    "\n",
    "    self.projection=tf.keras.layers.Dense(projection_dim)\n",
    "\n",
    "    self.clsToken= tf.Variable(tf.keras.initializers.GlorotNormal()(shape=(1 , 1 , projection_dim)) , trainable=True)\n",
    "    self.positionalEmbedding = tf.keras.layers.Embedding(self.num_of_patches , projection_dim)\n",
    "\n",
    "\n",
    "  def call(self, inputs):\n",
    "    patches = tf.image.extract_patches(inputs ,\n",
    "                                       sizes=[1 , self.size , self.size , 1],\n",
    "                                       strides=[1 , self.size , self.size , 1],\n",
    "                                       rates=[1 ,1 ,1 ,1],\n",
    "                                       padding=\"VALID\",)\n",
    "    patches=tf.reshape(patches, (tf.shape(inputs)[0], -1, self.size * self.size *3))\n",
    "    patches= self.projection(patches)\n",
    "\n",
    "    # repeat cls token length of batch size\n",
    "    clsToken = tf.repeat(self.clsToken , tf.shape(inputs)[0] , 0)\n",
    "    patches = tf.concat((clsToken, patches) , axis=1)\n",
    "    # create position number for each patch\n",
    "    positions = tf.range(0 , self.num_of_patches , 1)[tf.newaxis , ...]\n",
    "    positionalEmbedding = self.positionalEmbedding(positions)\n",
    "\n",
    "    #print(positionalEmbedding)\n",
    "    patches= patches + positionalEmbedding\n",
    "    return patches\n"
   ]
  },
  {
   "cell_type": "code",
   "execution_count": 10,
   "id": "a44dbf4a",
   "metadata": {
    "id": "a44dbf4a"
   },
   "outputs": [],
   "source": [
    "class TransformerLayer(tf.keras.layers.Layer):\n",
    "  def __init__(self , d_model , heads , mlp_rate , dropout_rate=0.1):\n",
    "    super().__init__()\n",
    "\n",
    "    self.layernorm_1 = tf.keras.layers.LayerNormalization(epsilon=1e-6)\n",
    "    self.mha= tf.keras.layers.MultiHeadAttention(heads, d_model//heads , dropout=dropout_rate)\n",
    "\n",
    "    self.layernorm_2 = tf.keras.layers.LayerNormalization(epsilon=1e-6)\n",
    "    self.mlp = tf.keras.Sequential([\n",
    "                                    tf.keras.layers.Dense(d_model * mlp_rate , activation=\"gelu\"),\n",
    "                                    tf.keras.layers.Dropout(dropout_rate),\n",
    "                                    tf.keras.layers.Dense(d_model , activation=\"gelu\"),\n",
    "                                    tf.keras.layers.Dropout(dropout_rate)\n",
    "    ])\n",
    "  def call(self , inputs , training=True):\n",
    "    out_1 = self.layernorm_1(inputs)\n",
    "    out_1 = self.mha(out_1 , out_1 ,training=training)\n",
    "    out_1 = inputs + out_1\n",
    "\n",
    "    out_2= self.layernorm_2(out_1)\n",
    "    out_2=self.mlp(out_2 , training=training)\n",
    "    out_2 = out_1 + out_2\n",
    "\n",
    "    return out_2\n"
   ]
  },
  {
   "cell_type": "code",
   "execution_count": 11,
   "id": "aa68b5d3",
   "metadata": {
    "id": "aa68b5d3"
   },
   "outputs": [],
   "source": [
    "class TransformerEncoder(tf.keras.layers.Layer):\n",
    "  def __init__(self , d_model , heads , mlp_rate , num_layers=1 , dropout_rate=0.1):\n",
    "    super().__init__()\n",
    "\n",
    "    self.encoders = [TransformerLayer(d_model , heads , mlp_rate , dropout_rate) for _ in range(num_layers)]\n",
    "\n",
    "  def call(self , inputs , training=True):\n",
    "    x =inputs\n",
    "\n",
    "    for layer in self.encoders:\n",
    "      x = layer(x , training=training)\n",
    "\n",
    "    return x\n"
   ]
  },
  {
   "cell_type": "code",
   "execution_count": 12,
   "id": "021c5050",
   "metadata": {
    "id": "021c5050"
   },
   "outputs": [],
   "source": [
    "class ViT(tf.keras.Model):\n",
    "  def __init__(self , num_classes , patch_size , num_of_patches , d_model , heads , num_layers , mlp_rate , dropout_rate=0.1):\n",
    "    super().__init__()\n",
    "\n",
    "    self.patchEmbedding = PatchEmbedding(patch_size , num_of_patches , d_model)\n",
    "    self.encoder = TransformerEncoder(d_model , heads , mlp_rate  ,num_layers , dropout_rate)\n",
    "\n",
    "    self.prediction = tf.keras.Sequential([\n",
    "                                           tf.keras.layers.Dropout(0.3),\n",
    "                                           tf.keras.layers.Dense(mlp_rate * d_model , activation=\"gelu\"),\n",
    "                                           tf.keras.layers.Dropout(0.2),\n",
    "                                           tf.keras.layers.Dense(num_classes, activation=\"softmax\")\n",
    "\n",
    "\n",
    "  ])\n",
    "  def call(self , inputs ,  training=True):\n",
    "    patches = self.patchEmbedding(inputs)\n",
    "    encoderResult = self.encoder(patches, training=training)\n",
    "\n",
    "    clsResult = encoderResult[: , 0 , :]\n",
    "\n",
    "    prediction = self.prediction(clsResult,\n",
    "                                 training=training)\n",
    "    return prediction\n"
   ]
  },
  {
   "cell_type": "code",
   "execution_count": 13,
   "id": "db0f5e6d",
   "metadata": {
    "id": "db0f5e6d"
   },
   "outputs": [],
   "source": [
    "# def scheduler(epoch, lr):\n",
    "#     if epoch < 10:\n",
    "#         return lr\n",
    "#     else:\n",
    "#         if epoch % 2:\n",
    "#             return lr * tf.math.exp(-0.1)\n",
    "#         else:\n",
    "#             return lr\n",
    "\n",
    "# callback = tf.keras.callbacks.LearningRateScheduler(scheduler)"
   ]
  },
  {
   "cell_type": "code",
   "execution_count": 14,
   "id": "ec4566be",
   "metadata": {},
   "outputs": [],
   "source": [
    "def lr_warmup_cosine_decay(global_step,\n",
    "                           warmup_steps,\n",
    "                           hold = 0,\n",
    "                           total_steps=0,\n",
    "                           start_lr=0.0001,\n",
    "                           target_lr=1e-3):\n",
    "    # Cosine decay\n",
    "    learning_rate = 0.5 * target_lr * (1 + np.cos(np.pi * (global_step - warmup_steps - hold) / float(total_steps - warmup_steps - hold)))\n",
    "\n",
    "    # Target LR * progress of warmup (=1 at the final warmup step)\n",
    "    warmup_lr = target_lr * (global_step / warmup_steps)\n",
    "\n",
    "    # Choose between `warmup_lr`, `target_lr` and `learning_rate` based on whether `global_step < warmup_steps` and we're still holding.\n",
    "    # i.e. warm up if we're still warming up and use cosine decayed lr otherwise\n",
    "    if hold > 0:\n",
    "        learning_rate = np.where(global_step > warmup_steps + hold,\n",
    "                                 learning_rate, target_lr)\n",
    "    \n",
    "    learning_rate = np.where(global_step < warmup_steps, warmup_lr, learning_rate)\n",
    "    return learning_rate"
   ]
  },
  {
   "cell_type": "code",
   "execution_count": 15,
   "id": "a19d015f",
   "metadata": {},
   "outputs": [],
   "source": [
    "from tensorflow.keras import backend as K\n",
    "\n",
    "class WarmupCosineDecay(tf.keras.callbacks.Callback):\n",
    "    def __init__(self, total_steps=0, warmup_steps=0, start_lr=0.0001, target_lr=1e-3, hold=0):\n",
    "\n",
    "        super(WarmupCosineDecay, self).__init__()\n",
    "        self.start_lr = start_lr\n",
    "        self.hold = hold\n",
    "        self.total_steps = total_steps\n",
    "        self.global_step = 1\n",
    "        self.target_lr = target_lr\n",
    "        self.warmup_steps = warmup_steps\n",
    "        self.lrs = []\n",
    "\n",
    "    def on_epoch_end(self, epoch, logs=None):\n",
    "        self.global_step = self.global_step + 1\n",
    "        lr = self.model.optimizer.lr.numpy()\n",
    "        self.lrs.append(lr)\n",
    "\n",
    "    def on_epoch_begin(self, epoch, logs=None):\n",
    "        lr = lr_warmup_cosine_decay(global_step=self.global_step,\n",
    "                                    total_steps=self.total_steps,\n",
    "                                    warmup_steps=self.warmup_steps,\n",
    "                                    start_lr=self.start_lr,\n",
    "                                    target_lr=self.target_lr,\n",
    "                                    hold=self.hold)\n",
    "        print(f\"Learining rate is {lr}\")\n",
    "        K.set_value(self.model.optimizer.lr, lr)"
   ]
  },
  {
   "cell_type": "code",
   "execution_count": 16,
   "id": "c052833a",
   "metadata": {},
   "outputs": [],
   "source": [
    "# If already batched\n",
    "total_steps = 100\n",
    "# If not batched\n",
    "#total_steps = len(train_set)/config['BATCH_SIZE']*config['EPOCHS']\n",
    "# 5% of the steps\n",
    "warmup_steps = 10\n",
    "\n",
    "callback = WarmupCosineDecay(total_steps=total_steps, \n",
    "                             warmup_steps=warmup_steps,\n",
    "                             hold=int(warmup_steps/2), \n",
    "                             start_lr=0.0001, \n",
    "                             target_lr=0.001)"
   ]
  },
  {
   "cell_type": "code",
   "execution_count": 17,
   "id": "b2f05e6e",
   "metadata": {
    "id": "b2f05e6e"
   },
   "outputs": [],
   "source": [
    "vitClassifier = ViT(num_classes=10, patch_size=32, num_of_patches=49,\n",
    "                d_model=192, heads=3, num_layers=12,\n",
    "                mlp_rate=1, dropout_rate=0.1)"
   ]
  },
  {
   "cell_type": "code",
   "execution_count": 18,
   "id": "ae703059",
   "metadata": {
    "colab": {
     "base_uri": "https://localhost:8080/"
    },
    "id": "ae703059",
    "outputId": "b3139085-ba60-4135-fea9-582d264c48f4"
   },
   "outputs": [
    {
     "data": {
      "text/plain": [
       "(32, 32, 32, 3)"
      ]
     },
     "execution_count": 18,
     "metadata": {},
     "output_type": "execute_result"
    }
   ],
   "source": [
    "next(iter(train_generator))[0].shape"
   ]
  },
  {
   "cell_type": "code",
   "execution_count": 19,
   "id": "7880b86d",
   "metadata": {
    "id": "7880b86d"
   },
   "outputs": [],
   "source": [
    "def build_model():\n",
    "    inputs = Input(shape=(32,32,3))\n",
    "    x = tf.keras.layers.Lambda(lambda image: tf.image.resize(image,(224,224)))(inputs)\n",
    "    y = vitClassifier(x)\n",
    "\n",
    "    return Model(inputs=inputs,outputs=y)\n"
   ]
  },
  {
   "cell_type": "code",
   "execution_count": 20,
   "id": "a981e1a6",
   "metadata": {
    "id": "a981e1a6"
   },
   "outputs": [],
   "source": [
    "vit = build_model()"
   ]
  },
  {
   "cell_type": "code",
   "execution_count": 21,
   "id": "98734364",
   "metadata": {
    "colab": {
     "base_uri": "https://localhost:8080/"
    },
    "id": "98734364",
    "outputId": "268c4647-aace-4ead-b219-fdf8f7c32e20"
   },
   "outputs": [
    {
     "name": "stdout",
     "output_type": "stream",
     "text": [
      "Model: \"model\"\n",
      "_________________________________________________________________\n",
      " Layer (type)                Output Shape              Param #   \n",
      "=================================================================\n",
      " input_1 (InputLayer)        [(None, 32, 32, 3)]       0         \n",
      "                                                                 \n",
      " lambda (Lambda)             (None, 224, 224, 3)       0         \n",
      "                                                                 \n",
      " vi_t (ViT)                  (None, 10)                3316042   \n",
      "                                                                 \n",
      "=================================================================\n",
      "Total params: 3,316,042\n",
      "Trainable params: 3,316,042\n",
      "Non-trainable params: 0\n",
      "_________________________________________________________________\n"
     ]
    },
    {
     "name": "stderr",
     "output_type": "stream",
     "text": [
      "C:\\Users\\fano2\\anaconda3\\envs\\tf\\lib\\site-packages\\keras\\optimizers\\optimizer_v2\\adam.py:114: UserWarning: The `lr` argument is deprecated, use `learning_rate` instead.\n",
      "  super().__init__(name, **kwargs)\n"
     ]
    }
   ],
   "source": [
    "vit.summary()\n",
    "vit.compile(\n",
    "    optimizer=tf.keras.optimizers.Adam(lr=0.001),\n",
    "    #optimizer = tf.keras.optimizers.SGD(lr=0.01,momentum=0.9),\n",
    "    loss=tf.keras.losses.CategoricalCrossentropy(),\n",
    "  metrics=[\n",
    "      tf.keras.metrics.CategoricalAccuracy(name=\"accuracy\")\n",
    "  ],\n",
    ")"
   ]
  },
  {
   "cell_type": "code",
   "execution_count": 22,
   "id": "3786ca1b",
   "metadata": {
    "colab": {
     "base_uri": "https://localhost:8080/",
     "height": 416
    },
    "id": "3786ca1b",
    "outputId": "acec0f7c-9233-4590-d4aa-7bc7acd33d81",
    "scrolled": true
   },
   "outputs": [
    {
     "name": "stdout",
     "output_type": "stream",
     "text": [
      "Learining rate is 0.0001\n",
      "Epoch 1/100\n",
      "1407/1407 [==============================] - 94s 60ms/step - loss: 2.1966 - accuracy: 0.1910 - val_loss: 1.9106 - val_accuracy: 0.2654\n",
      "Learining rate is 0.0002\n",
      "Epoch 2/100\n",
      "1407/1407 [==============================] - 83s 59ms/step - loss: 1.9247 - accuracy: 0.2772 - val_loss: 1.7008 - val_accuracy: 0.3548\n",
      "Learining rate is 0.0003\n",
      "Epoch 3/100\n",
      "1407/1407 [==============================] - 84s 59ms/step - loss: 1.8182 - accuracy: 0.3196 - val_loss: 1.7199 - val_accuracy: 0.3542\n",
      "Learining rate is 0.0004\n",
      "Epoch 4/100\n",
      "1407/1407 [==============================] - 85s 60ms/step - loss: 1.7528 - accuracy: 0.3534 - val_loss: 1.7124 - val_accuracy: 0.3624\n",
      "Learining rate is 0.0005\n",
      "Epoch 5/100\n",
      "1407/1407 [==============================] - 85s 60ms/step - loss: 1.7067 - accuracy: 0.3735 - val_loss: 1.5141 - val_accuracy: 0.4472\n",
      "Learining rate is 0.0006\n",
      "Epoch 6/100\n",
      "1407/1407 [==============================] - 84s 60ms/step - loss: 1.6670 - accuracy: 0.3884 - val_loss: 1.5362 - val_accuracy: 0.4220\n",
      "Learining rate is 0.0007\n",
      "Epoch 7/100\n",
      "1407/1407 [==============================] - 84s 60ms/step - loss: 1.6399 - accuracy: 0.3998 - val_loss: 1.5650 - val_accuracy: 0.4332\n",
      "Learining rate is 0.0008\n",
      "Epoch 8/100\n",
      "1407/1407 [==============================] - 84s 60ms/step - loss: 1.6127 - accuracy: 0.4146 - val_loss: 1.4512 - val_accuracy: 0.4662\n",
      "Learining rate is 0.0009000000000000001\n",
      "Epoch 9/100\n",
      "1407/1407 [==============================] - 84s 60ms/step - loss: 1.5895 - accuracy: 0.4228 - val_loss: 1.5109 - val_accuracy: 0.4246\n",
      "Learining rate is 0.001\n",
      "Epoch 10/100\n",
      "1407/1407 [==============================] - 84s 60ms/step - loss: 1.5733 - accuracy: 0.4298 - val_loss: 1.3923 - val_accuracy: 0.4896\n",
      "Learining rate is 0.001\n",
      "Epoch 11/100\n",
      "1407/1407 [==============================] - 83s 59ms/step - loss: 1.5186 - accuracy: 0.4547 - val_loss: 1.3614 - val_accuracy: 0.5058\n",
      "Learining rate is 0.001\n",
      "Epoch 12/100\n",
      "1407/1407 [==============================] - 83s 59ms/step - loss: 1.4899 - accuracy: 0.4665 - val_loss: 1.2999 - val_accuracy: 0.5254\n",
      "Learining rate is 0.001\n",
      "Epoch 13/100\n",
      "1407/1407 [==============================] - 84s 59ms/step - loss: 1.4549 - accuracy: 0.4798 - val_loss: 1.2882 - val_accuracy: 0.5362\n",
      "Learining rate is 0.001\n",
      "Epoch 14/100\n",
      "1407/1407 [==============================] - 80s 57ms/step - loss: 1.4281 - accuracy: 0.4921 - val_loss: 1.2307 - val_accuracy: 0.5506\n",
      "Learining rate is 0.001\n",
      "Epoch 15/100\n",
      "1407/1407 [==============================] - 82s 58ms/step - loss: 1.4029 - accuracy: 0.4983 - val_loss: 1.2516 - val_accuracy: 0.5448\n",
      "Learining rate is 0.0009996585300715115\n",
      "Epoch 16/100\n",
      "1407/1407 [==============================] - 81s 58ms/step - loss: 1.3783 - accuracy: 0.5097 - val_loss: 1.1911 - val_accuracy: 0.5650\n",
      "Learining rate is 0.0009986345866928941\n",
      "Epoch 17/100\n",
      "1407/1407 [==============================] - 82s 58ms/step - loss: 1.3505 - accuracy: 0.5224 - val_loss: 1.2999 - val_accuracy: 0.5306\n",
      "Learining rate is 0.0009969295684476367\n",
      "Epoch 18/100\n",
      "1407/1407 [==============================] - 81s 57ms/step - loss: 1.3399 - accuracy: 0.5289 - val_loss: 1.1902 - val_accuracy: 0.5800\n",
      "Learining rate is 0.000994545804185573\n",
      "Epoch 19/100\n",
      "1407/1407 [==============================] - 81s 58ms/step - loss: 1.3154 - accuracy: 0.5352 - val_loss: 1.1727 - val_accuracy: 0.5822\n",
      "Learining rate is 0.000991486549841951\n",
      "Epoch 20/100\n",
      "1407/1407 [==============================] - 80s 57ms/step - loss: 1.2957 - accuracy: 0.5437 - val_loss: 1.1813 - val_accuracy: 0.5942\n",
      "Learining rate is 0.0009877559839902184\n",
      "Epoch 21/100\n",
      "1407/1407 [==============================] - 80s 57ms/step - loss: 1.2835 - accuracy: 0.5488 - val_loss: 1.1725 - val_accuracy: 0.5888\n",
      "Learining rate is 0.0009833592021345938\n",
      "Epoch 22/100\n",
      "1407/1407 [==============================] - 81s 58ms/step - loss: 1.2685 - accuracy: 0.5552 - val_loss: 1.1006 - val_accuracy: 0.6054\n",
      "Learining rate is 0.0009783022097502204\n",
      "Epoch 23/100\n",
      "1407/1407 [==============================] - 82s 58ms/step - loss: 1.2467 - accuracy: 0.5643 - val_loss: 1.1783 - val_accuracy: 0.5858\n",
      "Learining rate is 0.0009725919140804099\n",
      "Epoch 24/100\n",
      "1407/1407 [==============================] - 82s 58ms/step - loss: 1.2306 - accuracy: 0.5690 - val_loss: 1.1365 - val_accuracy: 0.6002\n",
      "Learining rate is 0.0009662361147021779\n",
      "Epoch 25/100\n",
      "1407/1407 [==============================] - 82s 58ms/step - loss: 1.2130 - accuracy: 0.5775 - val_loss: 1.1151 - val_accuracy: 0.6018\n",
      "Learining rate is 0.0009592434928729616\n",
      "Epoch 26/100\n",
      "1407/1407 [==============================] - 82s 58ms/step - loss: 1.1971 - accuracy: 0.5827 - val_loss: 1.1677 - val_accuracy: 0.5844\n",
      "Learining rate is 0.0009516235996730644\n",
      "Epoch 27/100\n",
      "1407/1407 [==============================] - 83s 59ms/step - loss: 1.1841 - accuracy: 0.5863 - val_loss: 1.0277 - val_accuracy: 0.6306\n",
      "Learining rate is 0.0009433868429600309\n",
      "Epoch 28/100\n",
      "1407/1407 [==============================] - 82s 58ms/step - loss: 1.1704 - accuracy: 0.5928 - val_loss: 1.0925 - val_accuracy: 0.6190\n",
      "Learining rate is 0.0009345444731527642\n",
      "Epoch 29/100\n",
      "1407/1407 [==============================] - 82s 58ms/step - loss: 1.1552 - accuracy: 0.5960 - val_loss: 1.0143 - val_accuracy: 0.6374\n",
      "Learining rate is 0.0009251085678648072\n",
      "Epoch 30/100\n",
      "1407/1407 [==============================] - 82s 59ms/step - loss: 1.1382 - accuracy: 0.6033 - val_loss: 0.9925 - val_accuracy: 0.6502\n",
      "Learining rate is 0.0009150920154077753\n",
      "Epoch 31/100\n",
      "1407/1407 [==============================] - 81s 58ms/step - loss: 1.1230 - accuracy: 0.6096 - val_loss: 0.9899 - val_accuracy: 0.6566\n",
      "Learining rate is 0.0009045084971874737\n",
      "Epoch 32/100\n",
      "1407/1407 [==============================] - 82s 58ms/step - loss: 1.1121 - accuracy: 0.6132 - val_loss: 1.0760 - val_accuracy: 0.6306\n",
      "Learining rate is 0.0008933724690167417\n",
      "Epoch 33/100\n",
      "1407/1407 [==============================] - 82s 58ms/step - loss: 1.0992 - accuracy: 0.6186 - val_loss: 0.9807 - val_accuracy: 0.6666\n",
      "Learining rate is 0.0008816991413705516\n",
      "Epoch 34/100\n",
      "1407/1407 [==============================] - 82s 58ms/step - loss: 1.0812 - accuracy: 0.6278 - val_loss: 0.9667 - val_accuracy: 0.6602\n",
      "Learining rate is 0.0008695044586103295\n",
      "Epoch 35/100\n",
      "1407/1407 [==============================] - 80s 57ms/step - loss: 1.0730 - accuracy: 0.6302 - val_loss: 0.9531 - val_accuracy: 0.6690\n",
      "Learining rate is 0.0008568050772058762\n",
      "Epoch 36/100\n",
      "1407/1407 [==============================] - 80s 57ms/step - loss: 1.0544 - accuracy: 0.6390 - val_loss: 0.9703 - val_accuracy: 0.6614\n",
      "Learining rate is 0.0008436183429846313\n",
      "Epoch 37/100\n",
      "1407/1407 [==============================] - 79s 56ms/step - loss: 1.0461 - accuracy: 0.6388 - val_loss: 0.9637 - val_accuracy: 0.6704\n",
      "Learining rate is 0.0008299622674393614\n",
      "Epoch 38/100\n",
      "1407/1407 [==============================] - 79s 56ms/step - loss: 1.0283 - accuracy: 0.6449 - val_loss: 0.9002 - val_accuracy: 0.6920\n",
      "Learining rate is 0.0008158555031266255\n",
      "Epoch 39/100\n",
      "1407/1407 [==============================] - 79s 56ms/step - loss: 1.0150 - accuracy: 0.6521 - val_loss: 0.8942 - val_accuracy: 0.6838\n",
      "Learining rate is 0.0008013173181896282\n",
      "Epoch 40/100\n",
      "1407/1407 [==============================] - 81s 57ms/step - loss: 0.9971 - accuracy: 0.6597 - val_loss: 0.9464 - val_accuracy: 0.6812\n",
      "Learining rate is 0.0007863675700402526\n",
      "Epoch 41/100\n",
      "1407/1407 [==============================] - 81s 57ms/step - loss: 0.9875 - accuracy: 0.6593 - val_loss: 0.8859 - val_accuracy: 0.6926\n",
      "Learining rate is 0.0007710266782362247\n",
      "Epoch 42/100\n",
      "1407/1407 [==============================] - 81s 57ms/step - loss: 0.9723 - accuracy: 0.6664 - val_loss: 0.9899 - val_accuracy: 0.6678\n",
      "Learining rate is 0.0007553155965904535\n",
      "Epoch 43/100\n",
      "1407/1407 [==============================] - 82s 59ms/step - loss: 0.9599 - accuracy: 0.6705 - val_loss: 0.8935 - val_accuracy: 0.6872\n",
      "Learining rate is 0.0007392557845506433\n",
      "Epoch 44/100\n",
      "1407/1407 [==============================] - 82s 58ms/step - loss: 0.9501 - accuracy: 0.6747 - val_loss: 0.9545 - val_accuracy: 0.6798\n",
      "Learining rate is 0.0007228691778882692\n",
      "Epoch 45/100\n",
      "1407/1407 [==============================] - 81s 58ms/step - loss: 0.9336 - accuracy: 0.6788 - val_loss: 0.9443 - val_accuracy: 0.6730\n",
      "Learining rate is 0.0007061781587369518\n",
      "Epoch 46/100\n",
      "1407/1407 [==============================] - 82s 58ms/step - loss: 0.9323 - accuracy: 0.6800 - val_loss: 0.8755 - val_accuracy: 0.6972\n",
      "Learining rate is 0.0006892055250211552\n",
      "Epoch 47/100\n",
      "1407/1407 [==============================] - 82s 58ms/step - loss: 0.9172 - accuracy: 0.6869 - val_loss: 0.8806 - val_accuracy: 0.6990\n",
      "Learining rate is 0.0006719744593169641\n",
      "Epoch 48/100\n",
      "1407/1407 [==============================] - 80s 57ms/step - loss: 0.9013 - accuracy: 0.6882 - val_loss: 0.9222 - val_accuracy: 0.6928\n",
      "Learining rate is 0.0006545084971874737\n",
      "Epoch 49/100\n",
      "1407/1407 [==============================] - 81s 57ms/step - loss: 0.8856 - accuracy: 0.6967 - val_loss: 0.8627 - val_accuracy: 0.7008\n",
      "Learining rate is 0.0006368314950360416\n",
      "Epoch 50/100\n",
      "1407/1407 [==============================] - 81s 58ms/step - loss: 0.8738 - accuracy: 0.7014 - val_loss: 0.8467 - val_accuracy: 0.7020\n",
      "Learining rate is 0.0006189675975213093\n",
      "Epoch 51/100\n",
      "1407/1407 [==============================] - 81s 57ms/step - loss: 0.8664 - accuracy: 0.7041 - val_loss: 0.9137 - val_accuracy: 0.6966\n",
      "Learining rate is 0.0006009412045785051\n",
      "Epoch 52/100\n",
      "1407/1407 [==============================] - 81s 58ms/step - loss: 0.8528 - accuracy: 0.7102 - val_loss: 0.8958 - val_accuracy: 0.6998\n",
      "Learining rate is 0.000582776938092065\n",
      "Epoch 53/100\n",
      "1407/1407 [==============================] - 82s 58ms/step - loss: 0.8425 - accuracy: 0.7168 - val_loss: 0.7813 - val_accuracy: 0.7278\n",
      "Learining rate is 0.0005644996082651017\n",
      "Epoch 54/100\n",
      "1407/1407 [==============================] - 81s 57ms/step - loss: 0.8262 - accuracy: 0.7164 - val_loss: 0.8028 - val_accuracy: 0.7202\n",
      "Learining rate is 0.000546134179731651\n",
      "Epoch 55/100\n",
      "1407/1407 [==============================] - 84s 60ms/step - loss: 0.8197 - accuracy: 0.7192 - val_loss: 0.8079 - val_accuracy: 0.7198\n",
      "Learining rate is 0.000527705737457985\n",
      "Epoch 56/100\n",
      "1407/1407 [==============================] - 82s 59ms/step - loss: 0.8076 - accuracy: 0.7232 - val_loss: 0.8194 - val_accuracy: 0.7214\n",
      "Learining rate is 0.000509239452479565\n",
      "Epoch 57/100\n",
      "1407/1407 [==============================] - 82s 58ms/step - loss: 0.7963 - accuracy: 0.7306 - val_loss: 0.7950 - val_accuracy: 0.7258\n",
      "Learining rate is 0.0004907605475204352\n",
      "Epoch 58/100\n",
      "1407/1407 [==============================] - 81s 58ms/step - loss: 0.7886 - accuracy: 0.7319 - val_loss: 0.8326 - val_accuracy: 0.7250\n",
      "Learining rate is 0.00047229426254201515\n",
      "Epoch 59/100\n",
      "1407/1407 [==============================] - 81s 58ms/step - loss: 0.7656 - accuracy: 0.7400 - val_loss: 0.8277 - val_accuracy: 0.7204\n",
      "Learining rate is 0.00045386582026834903\n",
      "Epoch 60/100\n",
      "1407/1407 [==============================] - 82s 58ms/step - loss: 0.7605 - accuracy: 0.7380 - val_loss: 0.7653 - val_accuracy: 0.7316\n",
      "Learining rate is 0.0004355003917348985\n",
      "Epoch 61/100\n",
      "1407/1407 [==============================] - 82s 58ms/step - loss: 0.7523 - accuracy: 0.7431 - val_loss: 0.7740 - val_accuracy: 0.7406\n",
      "Learining rate is 0.000417223061907935\n",
      "Epoch 62/100\n",
      "1407/1407 [==============================] - 82s 59ms/step - loss: 0.7367 - accuracy: 0.7476 - val_loss: 0.8368 - val_accuracy: 0.7172\n",
      "Learining rate is 0.0003990587954214949\n",
      "Epoch 63/100\n",
      "1407/1407 [==============================] - 82s 58ms/step - loss: 0.7298 - accuracy: 0.7518 - val_loss: 0.8038 - val_accuracy: 0.7286\n",
      "Learining rate is 0.00038103240247869074\n",
      "Epoch 64/100\n",
      "1407/1407 [==============================] - 81s 57ms/step - loss: 0.7143 - accuracy: 0.7573 - val_loss: 0.8132 - val_accuracy: 0.7274\n",
      "Learining rate is 0.0003631685049639586\n",
      "Epoch 65/100\n",
      "1407/1407 [==============================] - 82s 59ms/step - loss: 0.7034 - accuracy: 0.7596 - val_loss: 0.7849 - val_accuracy: 0.7394\n",
      "Learining rate is 0.00034549150281252633\n",
      "Epoch 66/100\n",
      "1407/1407 [==============================] - 81s 58ms/step - loss: 0.6919 - accuracy: 0.7626 - val_loss: 0.7702 - val_accuracy: 0.7456\n",
      "Learining rate is 0.0003280255406830359\n",
      "Epoch 67/100\n",
      "1407/1407 [==============================] - 82s 58ms/step - loss: 0.6914 - accuracy: 0.7642 - val_loss: 0.7528 - val_accuracy: 0.7530\n",
      "Learining rate is 0.00031079447497884486\n",
      "Epoch 68/100\n",
      "1407/1407 [==============================] - 82s 58ms/step - loss: 0.6792 - accuracy: 0.7689 - val_loss: 0.8164 - val_accuracy: 0.7378\n",
      "Learining rate is 0.00029382184126304836\n",
      "Epoch 69/100\n",
      "1407/1407 [==============================] - 82s 58ms/step - loss: 0.6655 - accuracy: 0.7711 - val_loss: 0.7385 - val_accuracy: 0.7536\n",
      "Learining rate is 0.0002771308221117309\n",
      "Epoch 70/100\n",
      "1407/1407 [==============================] - 82s 59ms/step - loss: 0.6507 - accuracy: 0.7788 - val_loss: 0.7360 - val_accuracy: 0.7586\n",
      "Learining rate is 0.0002607442154493568\n",
      "Epoch 71/100\n",
      "1407/1407 [==============================] - 82s 58ms/step - loss: 0.6518 - accuracy: 0.7745 - val_loss: 0.7535 - val_accuracy: 0.7564\n",
      "Learining rate is 0.0002446844034095466\n",
      "Epoch 72/100\n",
      "1407/1407 [==============================] - 81s 58ms/step - loss: 0.6335 - accuracy: 0.7820 - val_loss: 0.7703 - val_accuracy: 0.7424\n",
      "Learining rate is 0.00022897332176377528\n",
      "Epoch 73/100\n",
      "1407/1407 [==============================] - 81s 57ms/step - loss: 0.6261 - accuracy: 0.7870 - val_loss: 0.7275 - val_accuracy: 0.7620\n",
      "Learining rate is 0.00021363242995974742\n",
      "Epoch 74/100\n",
      "1407/1407 [==============================] - 81s 58ms/step - loss: 0.6216 - accuracy: 0.7889 - val_loss: 0.7453 - val_accuracy: 0.7606\n",
      "Learining rate is 0.00019868268181037185\n",
      "Epoch 75/100\n",
      "1407/1407 [==============================] - 82s 58ms/step - loss: 0.6122 - accuracy: 0.7901 - val_loss: 0.7355 - val_accuracy: 0.7620\n",
      "Learining rate is 0.00018414449687337466\n",
      "Epoch 76/100\n",
      "1407/1407 [==============================] - 81s 58ms/step - loss: 0.6029 - accuracy: 0.7940 - val_loss: 0.7402 - val_accuracy: 0.7606\n",
      "Learining rate is 0.0001700377325606388\n",
      "Epoch 77/100\n",
      "1407/1407 [==============================] - 82s 58ms/step - loss: 0.5917 - accuracy: 0.7972 - val_loss: 0.7201 - val_accuracy: 0.7648\n",
      "Learining rate is 0.00015638165701536866\n",
      "Epoch 78/100\n",
      "1407/1407 [==============================] - 81s 58ms/step - loss: 0.5848 - accuracy: 0.8013 - val_loss: 0.7210 - val_accuracy: 0.7620\n",
      "Learining rate is 0.00014319492279412388\n",
      "Epoch 79/100\n",
      "1407/1407 [==============================] - 82s 58ms/step - loss: 0.5810 - accuracy: 0.8046 - val_loss: 0.7370 - val_accuracy: 0.7630\n",
      "Learining rate is 0.0001304955413896705\n",
      "Epoch 80/100\n",
      "1407/1407 [==============================] - 81s 57ms/step - loss: 0.5748 - accuracy: 0.8034 - val_loss: 0.7224 - val_accuracy: 0.7654\n",
      "Learining rate is 0.00011830085862944851\n",
      "Epoch 81/100\n",
      "1407/1407 [==============================] - 81s 58ms/step - loss: 0.5688 - accuracy: 0.8055 - val_loss: 0.7407 - val_accuracy: 0.7604\n",
      "Learining rate is 0.00010662753098325839\n",
      "Epoch 82/100\n",
      "1407/1407 [==============================] - 82s 58ms/step - loss: 0.5598 - accuracy: 0.8078 - val_loss: 0.7312 - val_accuracy: 0.7624\n",
      "Learining rate is 9.549150281252633e-05\n",
      "Epoch 83/100\n",
      "1407/1407 [==============================] - 82s 58ms/step - loss: 0.5514 - accuracy: 0.8124 - val_loss: 0.7306 - val_accuracy: 0.7588\n",
      "Learining rate is 8.490798459222476e-05\n",
      "Epoch 84/100\n",
      "1407/1407 [==============================] - 82s 58ms/step - loss: 0.5452 - accuracy: 0.8134 - val_loss: 0.7388 - val_accuracy: 0.7634\n",
      "Learining rate is 7.489143213519301e-05\n",
      "Epoch 85/100\n",
      "1407/1407 [==============================] - 80s 57ms/step - loss: 0.5422 - accuracy: 0.8153 - val_loss: 0.7245 - val_accuracy: 0.7630\n",
      "Learining rate is 6.545552684723583e-05\n",
      "Epoch 86/100\n",
      "1407/1407 [==============================] - 80s 57ms/step - loss: 0.5329 - accuracy: 0.8174 - val_loss: 0.7366 - val_accuracy: 0.7642\n",
      "Learining rate is 5.6613157039969057e-05\n",
      "Epoch 87/100\n",
      "1407/1407 [==============================] - 85s 60ms/step - loss: 0.5318 - accuracy: 0.8185 - val_loss: 0.7198 - val_accuracy: 0.7630\n",
      "Learining rate is 4.8376400326935575e-05\n",
      "Epoch 88/100\n",
      "1407/1407 [==============================] - 83s 59ms/step - loss: 0.5249 - accuracy: 0.8217 - val_loss: 0.7252 - val_accuracy: 0.7680\n",
      "Learining rate is 4.075650712703849e-05\n",
      "Epoch 89/100\n",
      "1407/1407 [==============================] - 83s 59ms/step - loss: 0.5181 - accuracy: 0.8246 - val_loss: 0.7359 - val_accuracy: 0.7656\n",
      "Learining rate is 3.376388529782209e-05\n",
      "Epoch 90/100\n",
      "1407/1407 [==============================] - 82s 58ms/step - loss: 0.5167 - accuracy: 0.8238 - val_loss: 0.7168 - val_accuracy: 0.7692\n",
      "Learining rate is 2.7408085919590266e-05\n",
      "Epoch 91/100\n",
      "1407/1407 [==============================] - 81s 58ms/step - loss: 0.5168 - accuracy: 0.8238 - val_loss: 0.7172 - val_accuracy: 0.7690\n",
      "Learining rate is 2.1697790249779635e-05\n",
      "Epoch 92/100\n",
      "1407/1407 [==============================] - 81s 58ms/step - loss: 0.5129 - accuracy: 0.8243 - val_loss: 0.7118 - val_accuracy: 0.7692\n",
      "Learining rate is 1.6640797865406288e-05\n",
      "Epoch 93/100\n",
      "1407/1407 [==============================] - 83s 59ms/step - loss: 0.5132 - accuracy: 0.8253 - val_loss: 0.7187 - val_accuracy: 0.7674\n",
      "Learining rate is 1.22440160097817e-05\n",
      "Epoch 94/100\n",
      "1407/1407 [==============================] - 81s 58ms/step - loss: 0.5127 - accuracy: 0.8259 - val_loss: 0.7112 - val_accuracy: 0.7670\n",
      "Learining rate is 8.513450158049108e-06\n",
      "Epoch 95/100\n",
      "1407/1407 [==============================] - 81s 57ms/step - loss: 0.5079 - accuracy: 0.8262 - val_loss: 0.7187 - val_accuracy: 0.7698\n",
      "Learining rate is 5.454195814427021e-06\n",
      "Epoch 96/100\n",
      "1407/1407 [==============================] - 82s 58ms/step - loss: 0.5043 - accuracy: 0.8283 - val_loss: 0.7173 - val_accuracy: 0.7682\n",
      "Learining rate is 3.0704315523631954e-06\n",
      "Epoch 97/100\n",
      "1407/1407 [==============================] - 82s 58ms/step - loss: 0.5056 - accuracy: 0.8288 - val_loss: 0.7187 - val_accuracy: 0.7688\n",
      "Learining rate is 1.3654133071059894e-06\n",
      "Epoch 98/100\n",
      "1407/1407 [==============================] - 83s 59ms/step - loss: 0.5023 - accuracy: 0.8276 - val_loss: 0.7183 - val_accuracy: 0.7696\n",
      "Learining rate is 3.4146992848854695e-07\n",
      "Epoch 99/100\n",
      "1407/1407 [==============================] - 81s 58ms/step - loss: 0.5021 - accuracy: 0.8286 - val_loss: 0.7177 - val_accuracy: 0.7694\n",
      "Learining rate is 0.0\n",
      "Epoch 100/100\n",
      "1407/1407 [==============================] - 81s 57ms/step - loss: 0.5070 - accuracy: 0.8281 - val_loss: 0.7177 - val_accuracy: 0.7694\n"
     ]
    }
   ],
   "source": [
    "history = vit.fit(train_generator,\n",
    "                    epochs=100,\n",
    "                    validation_data=(X_valid, y_valid),\n",
    "                    callbacks=[callback]\n",
    "                   )\n",
    "#print(\"\\nTest Accuracy: \", accuracy_score(np.argmax(test_label, axis=1), np.argmax(model.predict(test_data), axis=1)))"
   ]
  },
  {
   "cell_type": "code",
   "execution_count": 23,
   "id": "0f29eb0b",
   "metadata": {
    "id": "0f29eb0b"
   },
   "outputs": [],
   "source": [
    "# save the model !!!"
   ]
  },
  {
   "cell_type": "code",
   "execution_count": 24,
   "id": "b47b9d54",
   "metadata": {
    "colab": {
     "base_uri": "https://localhost:8080/",
     "height": 927
    },
    "id": "b47b9d54",
    "outputId": "711d9d05-84c8-495c-814c-793910839cb6",
    "scrolled": true
   },
   "outputs": [
    {
     "data": {
      "image/png": "[encoded data removed]",
      "text/plain": [
       "<Figure size 640x480 with 1 Axes>"
      ]
     },
     "metadata": {},
     "output_type": "display_data"
    },
    {
     "data": {
      "image/png": "[encoded data removed]",
      "text/plain": [
       "<Figure size 640x480 with 1 Axes>"
      ]
     },
     "metadata": {},
     "output_type": "display_data"
    }
   ],
   "source": [
    "# summarize history for accuracy\n",
    "plt.plot(history.history['accuracy'])\n",
    "plt.plot(history.history['val_accuracy'])\n",
    "plt.title('model accuracy')\n",
    "plt.ylabel('accuracy')\n",
    "plt.xlabel('epoch')\n",
    "plt.legend(['train', 'test'], loc='upper left')\n",
    "plt.show()\n",
    "# summarize history for loss\n",
    "plt.plot(history.history['loss'])\n",
    "plt.plot(history.history['val_loss'])\n",
    "plt.title('model loss')\n",
    "plt.ylabel('loss')\n",
    "plt.xlabel('epoch')\n",
    "plt.legend(['train', 'test'], loc='upper left')\n",
    "plt.show()"
   ]
  },
  {
   "cell_type": "code",
   "execution_count": 25,
   "id": "e40f373a",
   "metadata": {
    "colab": {
     "base_uri": "https://localhost:8080/"
    },
    "id": "e40f373a",
    "outputId": "92a0007d-148d-4d7c-eb05-0cb52f17991c"
   },
   "outputs": [
    {
     "name": "stdout",
     "output_type": "stream",
     "text": [
      "313/313 [==============================] - 7s 23ms/step - loss: 0.6917 - accuracy: 0.7733\n",
      "test loss, test acc: [0.6917344927787781, 0.7732999920845032]\n"
     ]
    }
   ],
   "source": [
    "results = vit.evaluate(test_data,test_label, batch_size=32, verbose=1)\n",
    "print(\"test loss, test acc:\", results)"
   ]
  },
  {
   "cell_type": "markdown",
   "id": "e5d66ead-9a97-4d3f-92e3-14989b92d181",
   "metadata": {
    "id": "dda5569a"
   },
   "source": [
    "### "
   ]
  }
 ],
 "metadata": {
  "accelerator": "GPU",
  "colab": {
   "gpuType": "T4",
   "provenance": []
  },
  "kernelspec": {
   "display_name": "Python 3 (ipykernel)",
   "language": "python",
   "name": "python3"
  },
  "language_info": {
   "codemirror_mode": {
    "name": "ipython",
    "version": 3
   },
   "file_extension": ".py",
   "mimetype": "text/x-python",
   "name": "python",
   "nbconvert_exporter": "python",
   "pygments_lexer": "ipython3",
   "version": "3.10.13"
  }
 },
 "nbformat": 4,
 "nbformat_minor": 5
}
